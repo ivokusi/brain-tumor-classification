{
  "cells": [
    {
      "cell_type": "code",
      "execution_count": null,
      "metadata": {
        "colab": {
          "base_uri": "https://localhost:8080/"
        },
        "id": "R9WwhHOQuoSN",
        "outputId": "2e3f307d-5983-45e9-9187-976216842e45"
      },
      "outputs": [],
      "source": [
        "! kaggle datasets download masoudnickparvar/brain-tumor-mri-dataset --unzip"
      ]
    },
    {
      "cell_type": "code",
      "execution_count": 1,
      "metadata": {
        "id": "vGbgwHQtFotn"
      },
      "outputs": [],
      "source": [
        "import os\n",
        "import pandas as pd\n",
        "import numpy as np\n",
        "import matplotlib.pyplot as plt\n",
        "import seaborn as sns"
      ]
    },
    {
      "cell_type": "code",
      "execution_count": 6,
      "metadata": {
        "id": "uY0J9E2YFp7S"
      },
      "outputs": [],
      "source": [
        "def get_class_paths(path):\n",
        "\n",
        "    classes = []\n",
        "    class_paths = []\n",
        "\n",
        "    for label in os.listdir(path):\n",
        "\n",
        "        label_path = os.path.join(path, label)\n",
        "\n",
        "        if os.path.isdir(label_path):\n",
        "\n",
        "            for image in os.listdir(label_path):\n",
        "\n",
        "                image_path = os.path.join(label_path, image)\n",
        "\n",
        "                classes.append(label)\n",
        "                class_paths.append(image_path)\n",
        "\n",
        "    df = pd.DataFrame({\n",
        "        \"Class Path\": class_paths,\n",
        "        \"Class\": classes\n",
        "    })\n",
        "\n",
        "    return df"
      ]
    },
    {
      "cell_type": "code",
      "execution_count": null,
      "metadata": {
        "colab": {
          "base_uri": "https://localhost:8080/",
          "height": 424
        },
        "id": "NcE7Cih2FrRE",
        "outputId": "2312c579-98ae-40ba-9649-4a68bd9d70eb"
      },
      "outputs": [],
      "source": [
        "tr_df = get_class_paths(\"./Training\")\n",
        "tr_df"
      ]
    },
    {
      "cell_type": "code",
      "execution_count": null,
      "metadata": {
        "colab": {
          "base_uri": "https://localhost:8080/",
          "height": 424
        },
        "id": "D3mypNk5FsiM",
        "outputId": "264ecec4-425b-4a25-e7b4-a371a75f9578"
      },
      "outputs": [],
      "source": [
        "ts_df = get_class_paths(\"./Testing\")\n",
        "ts_df"
      ]
    },
    {
      "cell_type": "code",
      "execution_count": null,
      "metadata": {
        "colab": {
          "base_uri": "https://localhost:8080/",
          "height": 562
        },
        "id": "udlFQF6YFt4b",
        "outputId": "bb67e1fd-c4df-44cd-b8ef-e324ea4aeec1"
      },
      "outputs": [],
      "source": [
        "plt.figure(figsize=(15, 7))\n",
        "ax = sns.countplot(data=tr_df, x=tr_df[\"Class\"])"
      ]
    },
    {
      "cell_type": "code",
      "execution_count": null,
      "metadata": {
        "colab": {
          "base_uri": "https://localhost:8080/",
          "height": 566
        },
        "id": "b2ixylOFF4ml",
        "outputId": "ddce7c93-7cc9-41ab-ec5a-4e1eb933b920"
      },
      "outputs": [],
      "source": [
        "plt.figure(figsize=(15, 7))\n",
        "ax = sns.countplot(data=ts_df, x=ts_df[\"Class\"])"
      ]
    },
    {
      "cell_type": "code",
      "execution_count": 11,
      "metadata": {
        "id": "TYt7U2pVF5_9"
      },
      "outputs": [],
      "source": [
        "from sklearn.model_selection import train_test_split\n",
        "from sklearn.metrics import classification_report, confusion_matrix"
      ]
    },
    {
      "cell_type": "code",
      "execution_count": 12,
      "metadata": {
        "id": "jYOAQMv9F7RB"
      },
      "outputs": [],
      "source": [
        "valid_df, ts_df = train_test_split(ts_df, test_size=0.5, stratify=ts_df[\"Class\"])"
      ]
    },
    {
      "cell_type": "code",
      "execution_count": null,
      "metadata": {
        "colab": {
          "base_uri": "https://localhost:8080/",
          "height": 424
        },
        "id": "UPc0sZGIF8rv",
        "outputId": "8e640073-35ad-40ad-b4b0-4b75389a41db"
      },
      "outputs": [],
      "source": [
        "valid_df"
      ]
    },
    {
      "cell_type": "code",
      "execution_count": null,
      "metadata": {
        "colab": {
          "base_uri": "https://localhost:8080/",
          "height": 424
        },
        "id": "1nkpYOQjF-Qq",
        "outputId": "460478c3-e7d4-4ea1-fb24-60cae9069163"
      },
      "outputs": [],
      "source": [
        "ts_df"
      ]
    },
    {
      "cell_type": "code",
      "execution_count": null,
      "metadata": {
        "id": "YIiOkG-YGATv"
      },
      "outputs": [],
      "source": [
        "from tensorflow.keras.preprocessing.image import ImageDataGenerator"
      ]
    },
    {
      "cell_type": "code",
      "execution_count": 16,
      "metadata": {
        "id": "RMqkUWNBGBWT"
      },
      "outputs": [],
      "source": [
        "batch_size = 32\n",
        "\n",
        "image_size = (299, 299)\n",
        "\n",
        "image_generator = ImageDataGenerator(\n",
        "    rescale=1/255,\n",
        "    brightness_range=(0.8, 1.2)\n",
        ")\n",
        "\n",
        "ts_gen = ImageDataGenerator(rescale=1/255)"
      ]
    },
    {
      "cell_type": "code",
      "execution_count": null,
      "metadata": {
        "colab": {
          "base_uri": "https://localhost:8080/"
        },
        "id": "qZPxkWKhGCfk",
        "outputId": "b7debd5c-d5d3-4ecd-b420-0db8add0be87"
      },
      "outputs": [],
      "source": [
        "tr_gen = image_generator.flow_from_dataframe(\n",
        "    tr_df,\n",
        "    x_col=\"Class Path\",\n",
        "    y_col=\"Class\",\n",
        "    batch_size=batch_size,\n",
        "    target_size=image_size\n",
        ")\n",
        "\n",
        "valid_gen = image_generator.flow_from_dataframe(\n",
        "    valid_df,\n",
        "    x_col=\"Class Path\",\n",
        "    y_col=\"Class\",\n",
        "    batch_size=batch_size,\n",
        "    target_size=image_size\n",
        ")\n",
        "\n",
        "ts_gen = ts_gen.flow_from_dataframe(\n",
        "    ts_df,\n",
        "    x_col=\"Class Path\",\n",
        "    y_col=\"Class\",\n",
        "    batch_size=16,\n",
        "    target_size=image_size,\n",
        "    shuffle=False\n",
        ")"
      ]
    },
    {
      "cell_type": "code",
      "execution_count": null,
      "metadata": {
        "colab": {
          "base_uri": "https://localhost:8080/",
          "height": 1000
        },
        "id": "rjchPxXcGDwJ",
        "outputId": "2c14ab21-9d69-44f6-d59e-9fa887846d5e"
      },
      "outputs": [],
      "source": [
        "plt.figure(figsize=(20, 20))\n",
        "\n",
        "for i in range(16):\n",
        "    plt.subplot(4, 4, i+1)\n",
        "    batch = next(ts_gen)\n",
        "    image = batch[0][0]\n",
        "    label = batch[1][0]\n",
        "    plt.imshow(image)\n",
        "\n",
        "    class_index = np.argmax(label)\n",
        "    class_names = list(tr_gen.class_indices.keys())\n",
        "    class_indices = list(tr_gen.class_indices.values())\n",
        "\n",
        "    index_position = class_indices.index(class_index)\n",
        "    class_name = class_names[index_position]\n",
        "\n",
        "    plt.title(f\"Class: {class_name}\")\n",
        "    plt.axis(\"off\")\n",
        "\n",
        "plt.tight_layout()\n",
        "plt.show()"
      ]
    },
    {
      "cell_type": "code",
      "execution_count": 19,
      "metadata": {
        "id": "oWOdjbPGGFnB"
      },
      "outputs": [],
      "source": [
        "import tensorflow as tf\n",
        "from tensorflow.keras.models import Sequential\n",
        "from tensorflow.keras.layers import Flatten, Dense, Dropout"
      ]
    },
    {
      "cell_type": "code",
      "execution_count": 20,
      "metadata": {
        "colab": {
          "base_uri": "https://localhost:8080/"
        },
        "id": "9MhryWxSGIcY",
        "outputId": "71c68536-4e66-482b-d0b7-af3d69beb78e"
      },
      "outputs": [],
      "source": [
        "img_shape = (299, 299, 3)\n",
        "\n",
        "base_model = tf.keras.applications.Xception(\n",
        "    include_top=False,\n",
        "    weights=\"imagenet\",\n",
        "    input_shape=img_shape,\n",
        "    pooling=\"max\"\n",
        ")\n",
        "\n",
        "model = Sequential([\n",
        "    base_model,\n",
        "    Flatten(),\n",
        "    Dropout(rate=0.3),\n",
        "    Dense(128, activation=\"relu\"),\n",
        "    Dropout(rate=0.25),\n",
        "    Dense(4, activation=\"softmax\")\n",
        "])\n"
      ]
    },
    {
      "cell_type": "code",
      "execution_count": 21,
      "metadata": {
        "id": "TL8T8wrWGJcB"
      },
      "outputs": [],
      "source": [
        "from tensorflow.keras.optimizers import Adamax\n",
        "from tensorflow.keras.metrics import Precision, Recall"
      ]
    },
    {
      "cell_type": "code",
      "execution_count": 22,
      "metadata": {
        "id": "C3Lyl5SKGKrH"
      },
      "outputs": [],
      "source": [
        "model.compile(Adamax(learning_rate=0.001),\n",
        "              loss=\"categorical_crossentropy\",\n",
        "              metrics=[\n",
        "                  \"accuracy\",\n",
        "                  Precision(),\n",
        "                  Recall()\n",
        "              ])"
      ]
    },
    {
      "cell_type": "code",
      "execution_count": null,
      "metadata": {
        "colab": {
          "base_uri": "https://localhost:8080/"
        },
        "id": "WqIyqNU3GL5K",
        "outputId": "e6363569-8e2e-44e5-808a-59fcf74c87fa"
      },
      "outputs": [],
      "source": [
        "hist = model.fit(tr_gen, epochs=5, validation_data=valid_gen)"
      ]
    },
    {
      "cell_type": "code",
      "execution_count": null,
      "metadata": {
        "colab": {
          "base_uri": "https://localhost:8080/",
          "height": 782
        },
        "id": "U7AIjgxNGYA4",
        "outputId": "3701cfbe-05e9-422c-88ce-82adce59958d"
      },
      "outputs": [],
      "source": [
        "metrics = [\"accuracy\", \"loss\", \"precision\", \"recall\"]\n",
        "tr_metrics = { m: hist.history[m] for m in metrics }\n",
        "val_metrics = { m: hist.history[f\"val_{m}\"] for m in metrics }\n",
        "\n",
        "best_epochs = {}\n",
        "best_values = {}\n",
        "for m in metrics:\n",
        "  if m == \"loss\":\n",
        "    idx = np.argmin(val_metrics[m])\n",
        "  else:\n",
        "    idx = np.argmax(val_metrics[m])\n",
        "  best_epochs[m] = idx + 1\n",
        "  best_values[m] = val_metrics[m][idx]\n",
        "\n",
        "plt.figure(figsize=(20, 12))\n",
        "plt.style.use(\"fivethirtyeight\")\n",
        "\n",
        "for i, metric in enumerate(metrics, 1):\n",
        "  plt.subplot(2, 2, i)\n",
        "  epochs = range(1, len(tr_metrics[metric]) + 1)\n",
        "\n",
        "  plt.plot(epochs, tr_metrics[metric], \"r\", label=f\"Training {metric}\")\n",
        "  plt.plot(epochs, val_metrics[metric], \"g\", label=f\"Validation {metric}\")\n",
        "  plt.scatter(best_epochs[metric], best_values[metric], s=150, c=\"blue\", label=f\"Best epoch = {best_epochs[metric]}\")\n",
        "\n",
        "  plt.title(f\"Training and Validation {metric.title()}\")\n",
        "  plt.xlabel(\"Epochs\")\n",
        "  plt.ylabel(metric.title())\n",
        "  plt.legend()\n",
        "  plt.grid(True)\n",
        "\n",
        "plt.suptitle(\"Model Training Metrics Over Epochs\", fontsize=16)\n",
        "plt.show()"
      ]
    },
    {
      "cell_type": "code",
      "execution_count": null,
      "metadata": {
        "colab": {
          "base_uri": "https://localhost:8080/"
        },
        "id": "A8JsqTTcPNua",
        "outputId": "e79cd861-1e30-4b31-db85-810f9f50a446"
      },
      "outputs": [],
      "source": [
        "train_score = model.evaluate(tr_gen, verbose=1)\n",
        "valid_score = model.evaluate(valid_gen, verbose=1)\n",
        "test_score = model.evaluate(ts_gen, verbose=1)\n",
        "\n",
        "print(f\"Train Accuracy: {train_score[1] * 100:.2f}%\")\n",
        "print(f\"Train Loss: {train_score[0]:.4f}\")\n",
        "print(f\"\\n\\nValidation Accuracy: {valid_score[1] * 100:.2f}%\")\n",
        "print(f\"Validation Loss: {valid_score[0]:.4f}\")\n",
        "print(f\"\\n\\nTest Accuracy: {test_score[1] * 100:.2f}%\")\n",
        "print(f\"Test Loss: {test_score[0]:.4f}\")"
      ]
    },
    {
      "cell_type": "code",
      "execution_count": null,
      "metadata": {
        "colab": {
          "base_uri": "https://localhost:8080/",
          "height": 785
        },
        "id": "dQEUizGPRHHS",
        "outputId": "9963497f-58b3-458e-fea1-40b5178f40b0"
      },
      "outputs": [],
      "source": [
        "preds = model.predict(ts_gen)\n",
        "y_pred = np.argmax(preds, axis=1)\n",
        "\n",
        "class_dict = {\n",
        "    0: \"glioma\",\n",
        "    1: \"meningioma\",\n",
        "    2: \"no_tumor\",\n",
        "    3: \"pituitary\"\n",
        "}\n",
        "\n",
        "cm = confusion_matrix(ts_gen.classes, y_pred)\n",
        "labels = list(class_dict.keys())\n",
        "plt.figure(figsize=(10, 8))\n",
        "sns.heatmap(cm, annot=True, fmt=\"d\", cmap=\"Blues\", xticklabels=labels, yticklabels=labels)\n",
        "plt.xlabel(\"Predicted Label\")\n",
        "plt.ylabel(\"True Label\")\n",
        "plt.title(\"Confusion Matrix\")\n",
        "plt.show()"
      ]
    },
    {
      "cell_type": "code",
      "execution_count": 24,
      "metadata": {
        "id": "SKiz753aS-WF"
      },
      "outputs": [],
      "source": [
        "from PIL import Image\n",
        "\n",
        "def predict(img_path):\n",
        "\n",
        "  labels = list(class_dict.keys())\n",
        "\n",
        "  plt.figure(figsize=(6, 8))\n",
        "\n",
        "  img = Image.open(img_path)\n",
        "  resized_img = img.resize((299, 299))\n",
        "  img_array = np.array(resized_img)\n",
        "  img_array = np.expand_dims(img_array, axis=0) / 255.0\n",
        "\n",
        "  predictions = model.predict(img_array)\n",
        "  probabilities = list(predictions[0])\n",
        "\n",
        "  predicted_class_idx = np.argmax(probabilities)\n",
        "  predicted_class = class_dict[predicted_class_idx]\n",
        "\n",
        "  plt.subplot(2, 1, 1)\n",
        "  plt.imshow(resized_img)\n",
        "  plt.title(f\"Input MRI Image\\nPredicted: {predicted_class}\")\n",
        "\n",
        "  plt.subplot(2, 1, 2)\n",
        "  bars = plt.barh(labels, probabilities)\n",
        "  plt.xlabel(\"Probability\", fontsize=15)\n",
        "  plt.title(\"Class Probabilities\")\n",
        "\n",
        "  ax = plt.gca()\n",
        "  ax.bar_label(bars, fmt=\"%.2f\")\n",
        "\n",
        "  plt.tight_layout()\n",
        "  plt.show()\n",
        "\n",
        "  print(f\"\\nPredicted tumor type: {predicted_class}\")"
      ]
    },
    {
      "cell_type": "code",
      "execution_count": null,
      "metadata": {
        "colab": {
          "base_uri": "https://localhost:8080/",
          "height": 849
        },
        "id": "0Etj7CBuVut2",
        "outputId": "f8709cc8-4652-4c12-bf95-8d942e7b92eb"
      },
      "outputs": [],
      "source": [
        "predict(\"/content/Testing/meningioma/Te-meTr_0000.jpg\")"
      ]
    },
    {
      "cell_type": "code",
      "execution_count": null,
      "metadata": {
        "colab": {
          "base_uri": "https://localhost:8080/",
          "height": 849
        },
        "id": "Tk2tsafEV8XH",
        "outputId": "0473cc66-e5f9-454a-f2f7-b4ce53e3653f"
      },
      "outputs": [],
      "source": [
        "predict(\"/content/Testing/meningioma/Te-meTr_0005.jpg\")"
      ]
    },
    {
      "cell_type": "code",
      "execution_count": null,
      "metadata": {
        "colab": {
          "base_uri": "https://localhost:8080/",
          "height": 849
        },
        "id": "_ZnVzJwwWGRm",
        "outputId": "cc7675c0-e11c-41b4-8eb7-7ec984f411d1"
      },
      "outputs": [],
      "source": [
        "predict(\"/content/Testing/glioma/Te-glTr_0000.jpg\")"
      ]
    },
    {
      "cell_type": "code",
      "execution_count": 45,
      "metadata": {
        "id": "W4yZ28l-WLh3"
      },
      "outputs": [],
      "source": [
        "model.save_weights(\"xception_model.weights.h5\")"
      ]
    },
    {
      "cell_type": "markdown",
      "metadata": {
        "id": "1_JoWC-HYa0V"
      },
      "source": [
        "# Custom CNN"
      ]
    },
    {
      "cell_type": "code",
      "execution_count": 29,
      "metadata": {
        "id": "ldFjxfp3W2uT"
      },
      "outputs": [],
      "source": [
        "from tensorflow.keras.layers import Conv2D, MaxPooling2D\n",
        "from tensorflow.keras import regularizers"
      ]
    },
    {
      "cell_type": "code",
      "execution_count": null,
      "metadata": {
        "colab": {
          "base_uri": "https://localhost:8080/"
        },
        "id": "MxSRG1KPttYt",
        "outputId": "a36d7b11-590e-4319-bc22-ea8cd52b7e6c"
      },
      "outputs": [],
      "source": [
        "batch_size = 16\n",
        "\n",
        "image_size = (224, 224)\n",
        "\n",
        "image_generator = ImageDataGenerator(\n",
        "    rescale=1/255,\n",
        "    brightness_range=(0.8, 1.2)\n",
        ")\n",
        "\n",
        "ts_gen = ImageDataGenerator(rescale=1/255)\n",
        "\n",
        "tr_gen = image_generator.flow_from_dataframe(\n",
        "    tr_df,\n",
        "    x_col=\"Class Path\",\n",
        "    y_col=\"Class\",\n",
        "    batch_size=batch_size,\n",
        "    target_size=image_size\n",
        ")\n",
        "\n",
        "valid_gen = image_generator.flow_from_dataframe(\n",
        "    valid_df,\n",
        "    x_col=\"Class Path\",\n",
        "    y_col=\"Class\",\n",
        "    batch_size=batch_size,\n",
        "    target_size=image_size\n",
        ")\n",
        "\n",
        "ts_gen = ts_gen.flow_from_dataframe(\n",
        "    ts_df,\n",
        "    x_col=\"Class Path\",\n",
        "    y_col=\"Class\",\n",
        "    batch_size=16,\n",
        "    target_size=image_size,\n",
        "    shuffle=False\n",
        ")"
      ]
    },
    {
      "cell_type": "code",
      "execution_count": null,
      "metadata": {
        "colab": {
          "base_uri": "https://localhost:8080/",
          "height": 650
        },
        "id": "UoPu4YkjuP6R",
        "outputId": "71064e61-7068-4d29-c8b5-c7515b2d60c5"
      },
      "outputs": [],
      "source": [
        "cnn_model = Sequential()\n",
        "\n",
        "# Convolutional layers\n",
        "cnn_model.add(Conv2D(512, (3, 3), padding=\"same\", input_shape=(224, 224, 3), activation=\"relu\"))\n",
        "cnn_model.add(MaxPooling2D(pool_size=(2, 2)))\n",
        "\n",
        "cnn_model.add(Conv2D(256, (3, 3), padding=\"same\", activation=\"relu\"))\n",
        "cnn_model.add(MaxPooling2D(pool_size=(2, 2)))\n",
        "cnn_model.add(Dropout(0.25))\n",
        "\n",
        "cnn_model.add(Conv2D(128, (3, 3), padding=\"same\", activation=\"relu\"))\n",
        "cnn_model.add(MaxPooling2D(pool_size=(2, 2)))\n",
        "cnn_model.add(Dropout(0.25))\n",
        "\n",
        "cnn_model.add(Conv2D(64, (3, 3), padding=\"same\", activation=\"relu\"))\n",
        "cnn_model.add(MaxPooling2D(pool_size=(2, 2)))\n",
        "\n",
        "# Flatten the output for fully connected layers\n",
        "cnn_model.add(Flatten())\n",
        "\n",
        "# Fully connected layers\n",
        "cnn_model.add(Dense(256, activation=\"relu\", kernel_regularizer=regularizers.l2(0.01)))\n",
        "cnn_model.add(Dropout(0.35))\n",
        "\n",
        "# Output layer with 4 neurons for the 4 classes\n",
        "cnn_model.add(Dense(4, activation=\"softmax\"))\n",
        "\n",
        "# Compile model\n",
        "cnn_model.compile(Adamax(learning_rate=0.001), loss=\"categorical_crossentropy\", metrics=[\"accuracy\", Precision(), Recall()])\n",
        "\n",
        "# Display the model summary\n",
        "cnn_model.summary()"
      ]
    },
    {
      "cell_type": "code",
      "execution_count": null,
      "metadata": {
        "colab": {
          "base_uri": "https://localhost:8080/"
        },
        "id": "sBrPW2AR0Zu5",
        "outputId": "29bc7064-55da-4ee1-c13b-b25d521c6bf1"
      },
      "outputs": [],
      "source": [
        "history = cnn_model.fit(tr_gen, epochs=5, validation_data=valid_gen)"
      ]
    },
    {
      "cell_type": "code",
      "execution_count": null,
      "metadata": {
        "colab": {
          "base_uri": "https://localhost:8080/",
          "height": 728
        },
        "id": "QXKZLgKeIFGo",
        "outputId": "4b361131-8f9d-4268-d753-f052867e153c"
      },
      "outputs": [],
      "source": [
        "metrics = [\"accuracy\", \"loss\", \"precision_1\", \"recall_1\"]\n",
        "tr_metrics = { m: history.history[m] for m in metrics }\n",
        "val_metrics = { m: history.history[f\"val_{m}\"] for m in metrics }\n",
        "\n",
        "best_epochs = {}\n",
        "best_values = {}\n",
        "for m in metrics:\n",
        "  if m == \"loss\":\n",
        "    idx = np.argmin(val_metrics[m])\n",
        "  else:\n",
        "    idx = np.argmax(val_metrics[m])\n",
        "  best_epochs[m] = idx + 1\n",
        "  best_values[m] = val_metrics[m][idx]\n",
        "\n",
        "plt.figure(figsize=(20, 12))\n",
        "plt.style.use(\"fivethirtyeight\")\n",
        "\n",
        "for i, metric in enumerate(metrics, 1):\n",
        "  plt.subplot(2, 2, i)\n",
        "  epochs = range(1, len(tr_metrics[metric]) + 1)\n",
        "\n",
        "  plt.plot(epochs, tr_metrics[metric], \"r\", label=f\"Training {metric}\")\n",
        "  plt.plot(epochs, val_metrics[metric], \"g\", label=f\"Validation {metric}\")\n",
        "  plt.scatter(best_epochs[metric], best_values[metric], s=150, c=\"blue\", label=f\"Best epoch = {best_epochs[metric]}\")\n",
        "\n",
        "  plt.title(f\"Training and Validation {metric.title()}\")\n",
        "  plt.xlabel(\"Epochs\")\n",
        "  plt.ylabel(metric.title())\n",
        "  plt.legend()\n",
        "  plt.grid(True)\n",
        "\n",
        "plt.suptitle(\"Model Training Metrics Over Epochs\", fontsize=16)\n",
        "plt.show()"
      ]
    },
    {
      "cell_type": "code",
      "execution_count": null,
      "metadata": {
        "colab": {
          "base_uri": "https://localhost:8080/"
        },
        "id": "BJEx6dAHQKs-",
        "outputId": "3a35a85a-453a-45da-ee9b-f747ee2e20ab"
      },
      "outputs": [],
      "source": [
        "train_score = cnn_model.evaluate(tr_gen, verbose=1)\n",
        "valid_score = cnn_model.evaluate(valid_gen, verbose=1)\n",
        "test_score = cnn_model.evaluate(ts_gen, verbose=1)\n",
        "\n",
        "print(f\"Train Accuracy: {train_score[1] * 100:.2f}%\")\n",
        "print(f\"Train Loss: {train_score[0]:.4f}\")\n",
        "print(f\"\\n\\nValidation Accuracy: {valid_score[1] * 100:.2f}%\")\n",
        "print(f\"Validation Loss: {valid_score[0]:.4f}\")\n",
        "print(f\"\\n\\nTest Accuracy: {test_score[1] * 100:.2f}%\")\n",
        "print(f\"Test Loss: {test_score[0]:.4f}\")"
      ]
    },
    {
      "cell_type": "code",
      "execution_count": null,
      "metadata": {
        "colab": {
          "base_uri": "https://localhost:8080/",
          "height": 785
        },
        "id": "quS6xNo7Q9Vl",
        "outputId": "d06f7845-1880-4937-84d2-ca2dc9b4dafb"
      },
      "outputs": [],
      "source": [
        "preds = cnn_model.predict(ts_gen)\n",
        "y_pred = np.argmax(preds, axis=1)\n",
        "\n",
        "class_dict = {\n",
        "    0: \"glioma\",\n",
        "    1: \"meningioma\",\n",
        "    2: \"no_tumor\",\n",
        "    3: \"pituitary\"\n",
        "}\n",
        "\n",
        "cm = confusion_matrix(ts_gen.classes, y_pred)\n",
        "labels = list(class_dict.keys())\n",
        "plt.figure(figsize=(10, 8))\n",
        "sns.heatmap(cm, annot=True, fmt=\"d\", cmap=\"Blues\", xticklabels=labels, yticklabels=labels)\n",
        "plt.xlabel(\"Predicted Label\")\n",
        "plt.ylabel(\"True Label\")\n",
        "plt.title(\"Confusion Matrix\")\n",
        "plt.show()"
      ]
    },
    {
      "cell_type": "code",
      "execution_count": null,
      "metadata": {
        "colab": {
          "base_uri": "https://localhost:8080/"
        },
        "id": "kNHRSLf3Q9ot",
        "outputId": "90653288-367b-46bb-8357-fe7d833f2b52"
      },
      "outputs": [],
      "source": [
        "clr = classification_report(ts_gen.classes, y_pred)\n",
        "print(clr)"
      ]
    },
    {
      "cell_type": "code",
      "execution_count": 46,
      "metadata": {
        "id": "eFJ3GW8fRZ6u"
      },
      "outputs": [],
      "source": [
        "cnn_model.save_weights(\"cnn_model.weights.h5\")"
      ]
    }
  ],
  "metadata": {
    "accelerator": "GPU",
    "colab": {
      "gpuType": "T4",
      "provenance": []
    },
    "kernelspec": {
      "display_name": "Python 3",
      "name": "python3"
    },
    "language_info": {
      "codemirror_mode": {
        "name": "ipython",
        "version": 3
      },
      "file_extension": ".py",
      "mimetype": "text/x-python",
      "name": "python",
      "nbconvert_exporter": "python",
      "pygments_lexer": "ipython3",
      "version": "3.11.10"
    }
  },
  "nbformat": 4,
  "nbformat_minor": 0
}
